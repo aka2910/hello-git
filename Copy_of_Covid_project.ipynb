{
  "nbformat": 4,
  "nbformat_minor": 0,
  "metadata": {
    "colab": {
      "name": "Copy of Covid project.ipynb",
      "provenance": [],
      "collapsed_sections": [],
      "include_colab_link": true
    },
    "kernelspec": {
      "name": "python3",
      "display_name": "Python 3"
    },
    "language_info": {
      "name": "python"
    },
    "widgets": {
      "application/vnd.jupyter.widget-state+json": {
        "e86f17a885684f13bd58b8ed1209b9a5": {
          "model_module": "@jupyter-widgets/controls",
          "model_name": "HBoxModel",
          "state": {
            "_view_name": "HBoxView",
            "_dom_classes": [],
            "_model_name": "HBoxModel",
            "_view_module": "@jupyter-widgets/controls",
            "_model_module_version": "1.5.0",
            "_view_count": null,
            "_view_module_version": "1.5.0",
            "box_style": "",
            "layout": "IPY_MODEL_615aa052b5b64e7cb400c8497c544e3a",
            "_model_module": "@jupyter-widgets/controls",
            "children": [
              "IPY_MODEL_e4832475b0fa4e01a57ea07b3bdbd030",
              "IPY_MODEL_f95e14b1634742b78b372098896e535b"
            ]
          }
        },
        "615aa052b5b64e7cb400c8497c544e3a": {
          "model_module": "@jupyter-widgets/base",
          "model_name": "LayoutModel",
          "state": {
            "_view_name": "LayoutView",
            "grid_template_rows": null,
            "right": null,
            "justify_content": null,
            "_view_module": "@jupyter-widgets/base",
            "overflow": null,
            "_model_module_version": "1.2.0",
            "_view_count": null,
            "flex_flow": null,
            "width": null,
            "min_width": null,
            "border": null,
            "align_items": null,
            "bottom": null,
            "_model_module": "@jupyter-widgets/base",
            "top": null,
            "grid_column": null,
            "overflow_y": null,
            "overflow_x": null,
            "grid_auto_flow": null,
            "grid_area": null,
            "grid_template_columns": null,
            "flex": null,
            "_model_name": "LayoutModel",
            "justify_items": null,
            "grid_row": null,
            "max_height": null,
            "align_content": null,
            "visibility": null,
            "align_self": null,
            "height": null,
            "min_height": null,
            "padding": null,
            "grid_auto_rows": null,
            "grid_gap": null,
            "max_width": null,
            "order": null,
            "_view_module_version": "1.2.0",
            "grid_template_areas": null,
            "object_position": null,
            "object_fit": null,
            "grid_auto_columns": null,
            "margin": null,
            "display": null,
            "left": null
          }
        },
        "e4832475b0fa4e01a57ea07b3bdbd030": {
          "model_module": "@jupyter-widgets/controls",
          "model_name": "FloatProgressModel",
          "state": {
            "_view_name": "ProgressView",
            "style": "IPY_MODEL_e78ba71f5d724ee3a4d2d3d59eeced3d",
            "_dom_classes": [],
            "description": "100%",
            "_model_name": "FloatProgressModel",
            "bar_style": "success",
            "max": 10,
            "_view_module": "@jupyter-widgets/controls",
            "_model_module_version": "1.5.0",
            "value": 10,
            "_view_count": null,
            "_view_module_version": "1.5.0",
            "orientation": "horizontal",
            "min": 0,
            "description_tooltip": null,
            "_model_module": "@jupyter-widgets/controls",
            "layout": "IPY_MODEL_216f00fc23ec4488932944bf60dc11d5"
          }
        },
        "f95e14b1634742b78b372098896e535b": {
          "model_module": "@jupyter-widgets/controls",
          "model_name": "HTMLModel",
          "state": {
            "_view_name": "HTMLView",
            "style": "IPY_MODEL_bf07942fd50143ab8abc621280a67d12",
            "_dom_classes": [],
            "description": "",
            "_model_name": "HTMLModel",
            "placeholder": "​",
            "_view_module": "@jupyter-widgets/controls",
            "_model_module_version": "1.5.0",
            "value": " 10/10 [00:22&lt;00:00,  2.21s/epoch, loss=0.386, accuracy=0.822, val_loss=0.334, val_accuracy=0.88]",
            "_view_count": null,
            "_view_module_version": "1.5.0",
            "description_tooltip": null,
            "_model_module": "@jupyter-widgets/controls",
            "layout": "IPY_MODEL_b1b468073e194ba882499546cc9a36a1"
          }
        },
        "e78ba71f5d724ee3a4d2d3d59eeced3d": {
          "model_module": "@jupyter-widgets/controls",
          "model_name": "ProgressStyleModel",
          "state": {
            "_view_name": "StyleView",
            "_model_name": "ProgressStyleModel",
            "description_width": "initial",
            "_view_module": "@jupyter-widgets/base",
            "_model_module_version": "1.5.0",
            "_view_count": null,
            "_view_module_version": "1.2.0",
            "bar_color": null,
            "_model_module": "@jupyter-widgets/controls"
          }
        },
        "216f00fc23ec4488932944bf60dc11d5": {
          "model_module": "@jupyter-widgets/base",
          "model_name": "LayoutModel",
          "state": {
            "_view_name": "LayoutView",
            "grid_template_rows": null,
            "right": null,
            "justify_content": null,
            "_view_module": "@jupyter-widgets/base",
            "overflow": null,
            "_model_module_version": "1.2.0",
            "_view_count": null,
            "flex_flow": null,
            "width": null,
            "min_width": null,
            "border": null,
            "align_items": null,
            "bottom": null,
            "_model_module": "@jupyter-widgets/base",
            "top": null,
            "grid_column": null,
            "overflow_y": null,
            "overflow_x": null,
            "grid_auto_flow": null,
            "grid_area": null,
            "grid_template_columns": null,
            "flex": null,
            "_model_name": "LayoutModel",
            "justify_items": null,
            "grid_row": null,
            "max_height": null,
            "align_content": null,
            "visibility": null,
            "align_self": null,
            "height": null,
            "min_height": null,
            "padding": null,
            "grid_auto_rows": null,
            "grid_gap": null,
            "max_width": null,
            "order": null,
            "_view_module_version": "1.2.0",
            "grid_template_areas": null,
            "object_position": null,
            "object_fit": null,
            "grid_auto_columns": null,
            "margin": null,
            "display": null,
            "left": null
          }
        },
        "bf07942fd50143ab8abc621280a67d12": {
          "model_module": "@jupyter-widgets/controls",
          "model_name": "DescriptionStyleModel",
          "state": {
            "_view_name": "StyleView",
            "_model_name": "DescriptionStyleModel",
            "description_width": "",
            "_view_module": "@jupyter-widgets/base",
            "_model_module_version": "1.5.0",
            "_view_count": null,
            "_view_module_version": "1.2.0",
            "_model_module": "@jupyter-widgets/controls"
          }
        },
        "b1b468073e194ba882499546cc9a36a1": {
          "model_module": "@jupyter-widgets/base",
          "model_name": "LayoutModel",
          "state": {
            "_view_name": "LayoutView",
            "grid_template_rows": null,
            "right": null,
            "justify_content": null,
            "_view_module": "@jupyter-widgets/base",
            "overflow": null,
            "_model_module_version": "1.2.0",
            "_view_count": null,
            "flex_flow": null,
            "width": null,
            "min_width": null,
            "border": null,
            "align_items": null,
            "bottom": null,
            "_model_module": "@jupyter-widgets/base",
            "top": null,
            "grid_column": null,
            "overflow_y": null,
            "overflow_x": null,
            "grid_auto_flow": null,
            "grid_area": null,
            "grid_template_columns": null,
            "flex": null,
            "_model_name": "LayoutModel",
            "justify_items": null,
            "grid_row": null,
            "max_height": null,
            "align_content": null,
            "visibility": null,
            "align_self": null,
            "height": null,
            "min_height": null,
            "padding": null,
            "grid_auto_rows": null,
            "grid_gap": null,
            "max_width": null,
            "order": null,
            "_view_module_version": "1.2.0",
            "grid_template_areas": null,
            "object_position": null,
            "object_fit": null,
            "grid_auto_columns": null,
            "margin": null,
            "display": null,
            "left": null
          }
        },
        "cee12dbc43f34b24be0b97fbf85b10e0": {
          "model_module": "@jupyter-widgets/controls",
          "model_name": "HBoxModel",
          "state": {
            "_view_name": "HBoxView",
            "_dom_classes": [],
            "_model_name": "HBoxModel",
            "_view_module": "@jupyter-widgets/controls",
            "_model_module_version": "1.5.0",
            "_view_count": null,
            "_view_module_version": "1.5.0",
            "box_style": "",
            "layout": "IPY_MODEL_63dc92720e85422b8eeb496f5fe72b36",
            "_model_module": "@jupyter-widgets/controls",
            "children": [
              "IPY_MODEL_68e29fcc93494725a83b3009e799de84",
              "IPY_MODEL_6e4ea232ef184f71958ad57908912123"
            ]
          }
        },
        "63dc92720e85422b8eeb496f5fe72b36": {
          "model_module": "@jupyter-widgets/base",
          "model_name": "LayoutModel",
          "state": {
            "_view_name": "LayoutView",
            "grid_template_rows": null,
            "right": null,
            "justify_content": null,
            "_view_module": "@jupyter-widgets/base",
            "overflow": null,
            "_model_module_version": "1.2.0",
            "_view_count": null,
            "flex_flow": null,
            "width": null,
            "min_width": null,
            "border": null,
            "align_items": null,
            "bottom": null,
            "_model_module": "@jupyter-widgets/base",
            "top": null,
            "grid_column": null,
            "overflow_y": null,
            "overflow_x": null,
            "grid_auto_flow": null,
            "grid_area": null,
            "grid_template_columns": null,
            "flex": null,
            "_model_name": "LayoutModel",
            "justify_items": null,
            "grid_row": null,
            "max_height": null,
            "align_content": null,
            "visibility": null,
            "align_self": null,
            "height": null,
            "min_height": null,
            "padding": null,
            "grid_auto_rows": null,
            "grid_gap": null,
            "max_width": null,
            "order": null,
            "_view_module_version": "1.2.0",
            "grid_template_areas": null,
            "object_position": null,
            "object_fit": null,
            "grid_auto_columns": null,
            "margin": null,
            "display": null,
            "left": null
          }
        },
        "68e29fcc93494725a83b3009e799de84": {
          "model_module": "@jupyter-widgets/controls",
          "model_name": "FloatProgressModel",
          "state": {
            "_view_name": "ProgressView",
            "style": "IPY_MODEL_06276d6e64cf43859c60860a9d00a348",
            "_dom_classes": [],
            "description": " 22%",
            "_model_name": "FloatProgressModel",
            "bar_style": "danger",
            "max": 200,
            "_view_module": "@jupyter-widgets/controls",
            "_model_module_version": "1.5.0",
            "value": 44,
            "_view_count": null,
            "_view_module_version": "1.5.0",
            "orientation": "horizontal",
            "min": 0,
            "description_tooltip": null,
            "_model_module": "@jupyter-widgets/controls",
            "layout": "IPY_MODEL_941cfccd913a4747b57764209071c235"
          }
        },
        "6e4ea232ef184f71958ad57908912123": {
          "model_module": "@jupyter-widgets/controls",
          "model_name": "HTMLModel",
          "state": {
            "_view_name": "HTMLView",
            "style": "IPY_MODEL_c75258eb9ff142eba4cdf3944e9eb746",
            "_dom_classes": [],
            "description": "",
            "_model_name": "HTMLModel",
            "placeholder": "​",
            "_view_module": "@jupyter-widgets/controls",
            "_model_module_version": "1.5.0",
            "value": " 44/200 [01:30&lt;05:22,  2.07s/epoch, loss=0.268, accuracy=0.887, val_loss=0.247, val_accuracy=0.9]",
            "_view_count": null,
            "_view_module_version": "1.5.0",
            "description_tooltip": null,
            "_model_module": "@jupyter-widgets/controls",
            "layout": "IPY_MODEL_f674bc3a4fd04737aa369010f234e142"
          }
        },
        "06276d6e64cf43859c60860a9d00a348": {
          "model_module": "@jupyter-widgets/controls",
          "model_name": "ProgressStyleModel",
          "state": {
            "_view_name": "StyleView",
            "_model_name": "ProgressStyleModel",
            "description_width": "initial",
            "_view_module": "@jupyter-widgets/base",
            "_model_module_version": "1.5.0",
            "_view_count": null,
            "_view_module_version": "1.2.0",
            "bar_color": null,
            "_model_module": "@jupyter-widgets/controls"
          }
        },
        "941cfccd913a4747b57764209071c235": {
          "model_module": "@jupyter-widgets/base",
          "model_name": "LayoutModel",
          "state": {
            "_view_name": "LayoutView",
            "grid_template_rows": null,
            "right": null,
            "justify_content": null,
            "_view_module": "@jupyter-widgets/base",
            "overflow": null,
            "_model_module_version": "1.2.0",
            "_view_count": null,
            "flex_flow": null,
            "width": null,
            "min_width": null,
            "border": null,
            "align_items": null,
            "bottom": null,
            "_model_module": "@jupyter-widgets/base",
            "top": null,
            "grid_column": null,
            "overflow_y": null,
            "overflow_x": null,
            "grid_auto_flow": null,
            "grid_area": null,
            "grid_template_columns": null,
            "flex": null,
            "_model_name": "LayoutModel",
            "justify_items": null,
            "grid_row": null,
            "max_height": null,
            "align_content": null,
            "visibility": null,
            "align_self": null,
            "height": null,
            "min_height": null,
            "padding": null,
            "grid_auto_rows": null,
            "grid_gap": null,
            "max_width": null,
            "order": null,
            "_view_module_version": "1.2.0",
            "grid_template_areas": null,
            "object_position": null,
            "object_fit": null,
            "grid_auto_columns": null,
            "margin": null,
            "display": null,
            "left": null
          }
        },
        "c75258eb9ff142eba4cdf3944e9eb746": {
          "model_module": "@jupyter-widgets/controls",
          "model_name": "DescriptionStyleModel",
          "state": {
            "_view_name": "StyleView",
            "_model_name": "DescriptionStyleModel",
            "description_width": "",
            "_view_module": "@jupyter-widgets/base",
            "_model_module_version": "1.5.0",
            "_view_count": null,
            "_view_module_version": "1.2.0",
            "_model_module": "@jupyter-widgets/controls"
          }
        },
        "f674bc3a4fd04737aa369010f234e142": {
          "model_module": "@jupyter-widgets/base",
          "model_name": "LayoutModel",
          "state": {
            "_view_name": "LayoutView",
            "grid_template_rows": null,
            "right": null,
            "justify_content": null,
            "_view_module": "@jupyter-widgets/base",
            "overflow": null,
            "_model_module_version": "1.2.0",
            "_view_count": null,
            "flex_flow": null,
            "width": null,
            "min_width": null,
            "border": null,
            "align_items": null,
            "bottom": null,
            "_model_module": "@jupyter-widgets/base",
            "top": null,
            "grid_column": null,
            "overflow_y": null,
            "overflow_x": null,
            "grid_auto_flow": null,
            "grid_area": null,
            "grid_template_columns": null,
            "flex": null,
            "_model_name": "LayoutModel",
            "justify_items": null,
            "grid_row": null,
            "max_height": null,
            "align_content": null,
            "visibility": null,
            "align_self": null,
            "height": null,
            "min_height": null,
            "padding": null,
            "grid_auto_rows": null,
            "grid_gap": null,
            "max_width": null,
            "order": null,
            "_view_module_version": "1.2.0",
            "grid_template_areas": null,
            "object_position": null,
            "object_fit": null,
            "grid_auto_columns": null,
            "margin": null,
            "display": null,
            "left": null
          }
        },
        "e9eb78a8b5df4bfe81bbc4da17c25c84": {
          "model_module": "@jupyter-widgets/controls",
          "model_name": "HBoxModel",
          "state": {
            "_view_name": "HBoxView",
            "_dom_classes": [],
            "_model_name": "HBoxModel",
            "_view_module": "@jupyter-widgets/controls",
            "_model_module_version": "1.5.0",
            "_view_count": null,
            "_view_module_version": "1.5.0",
            "box_style": "",
            "layout": "IPY_MODEL_032646fe82a249c89b111ee2b79071ba",
            "_model_module": "@jupyter-widgets/controls",
            "children": [
              "IPY_MODEL_0ebc2c5a1660412f98af78bb61f2c092",
              "IPY_MODEL_095aacd71371413cab6a337d49f7192e"
            ]
          }
        },
        "032646fe82a249c89b111ee2b79071ba": {
          "model_module": "@jupyter-widgets/base",
          "model_name": "LayoutModel",
          "state": {
            "_view_name": "LayoutView",
            "grid_template_rows": null,
            "right": null,
            "justify_content": null,
            "_view_module": "@jupyter-widgets/base",
            "overflow": null,
            "_model_module_version": "1.2.0",
            "_view_count": null,
            "flex_flow": null,
            "width": null,
            "min_width": null,
            "border": null,
            "align_items": null,
            "bottom": null,
            "_model_module": "@jupyter-widgets/base",
            "top": null,
            "grid_column": null,
            "overflow_y": null,
            "overflow_x": null,
            "grid_auto_flow": null,
            "grid_area": null,
            "grid_template_columns": null,
            "flex": null,
            "_model_name": "LayoutModel",
            "justify_items": null,
            "grid_row": null,
            "max_height": null,
            "align_content": null,
            "visibility": null,
            "align_self": null,
            "height": null,
            "min_height": null,
            "padding": null,
            "grid_auto_rows": null,
            "grid_gap": null,
            "max_width": null,
            "order": null,
            "_view_module_version": "1.2.0",
            "grid_template_areas": null,
            "object_position": null,
            "object_fit": null,
            "grid_auto_columns": null,
            "margin": null,
            "display": null,
            "left": null
          }
        },
        "0ebc2c5a1660412f98af78bb61f2c092": {
          "model_module": "@jupyter-widgets/controls",
          "model_name": "FloatProgressModel",
          "state": {
            "_view_name": "ProgressView",
            "style": "IPY_MODEL_b9114cfa227b4cd18253f3450face5d2",
            "_dom_classes": [],
            "description": "",
            "_model_name": "FloatProgressModel",
            "bar_style": "info",
            "max": 1,
            "_view_module": "@jupyter-widgets/controls",
            "_model_module_version": "1.5.0",
            "value": 0,
            "_view_count": null,
            "_view_module_version": "1.5.0",
            "orientation": "horizontal",
            "min": 0,
            "description_tooltip": null,
            "_model_module": "@jupyter-widgets/controls",
            "layout": "IPY_MODEL_129f33d8602342d29194be14eee121f1"
          }
        },
        "095aacd71371413cab6a337d49f7192e": {
          "model_module": "@jupyter-widgets/controls",
          "model_name": "HTMLModel",
          "state": {
            "_view_name": "HTMLView",
            "style": "IPY_MODEL_a9f1d4d9cf594035a42e830b995cf28c",
            "_dom_classes": [],
            "description": "",
            "_model_name": "HTMLModel",
            "placeholder": "​",
            "_view_module": "@jupyter-widgets/controls",
            "_model_module_version": "1.5.0",
            "value": " 0/? [00:00&lt;?, ?epoch/s]",
            "_view_count": null,
            "_view_module_version": "1.5.0",
            "description_tooltip": null,
            "_model_module": "@jupyter-widgets/controls",
            "layout": "IPY_MODEL_d6ece15021c247a0a789622885c1d2c2"
          }
        },
        "b9114cfa227b4cd18253f3450face5d2": {
          "model_module": "@jupyter-widgets/controls",
          "model_name": "ProgressStyleModel",
          "state": {
            "_view_name": "StyleView",
            "_model_name": "ProgressStyleModel",
            "description_width": "initial",
            "_view_module": "@jupyter-widgets/base",
            "_model_module_version": "1.5.0",
            "_view_count": null,
            "_view_module_version": "1.2.0",
            "bar_color": null,
            "_model_module": "@jupyter-widgets/controls"
          }
        },
        "129f33d8602342d29194be14eee121f1": {
          "model_module": "@jupyter-widgets/base",
          "model_name": "LayoutModel",
          "state": {
            "_view_name": "LayoutView",
            "grid_template_rows": null,
            "right": null,
            "justify_content": null,
            "_view_module": "@jupyter-widgets/base",
            "overflow": null,
            "_model_module_version": "1.2.0",
            "_view_count": null,
            "flex_flow": null,
            "width": null,
            "min_width": null,
            "border": null,
            "align_items": null,
            "bottom": null,
            "_model_module": "@jupyter-widgets/base",
            "top": null,
            "grid_column": null,
            "overflow_y": null,
            "overflow_x": null,
            "grid_auto_flow": null,
            "grid_area": null,
            "grid_template_columns": null,
            "flex": null,
            "_model_name": "LayoutModel",
            "justify_items": null,
            "grid_row": null,
            "max_height": null,
            "align_content": null,
            "visibility": null,
            "align_self": null,
            "height": null,
            "min_height": null,
            "padding": null,
            "grid_auto_rows": null,
            "grid_gap": null,
            "max_width": null,
            "order": null,
            "_view_module_version": "1.2.0",
            "grid_template_areas": null,
            "object_position": null,
            "object_fit": null,
            "grid_auto_columns": null,
            "margin": null,
            "display": null,
            "left": null
          }
        },
        "a9f1d4d9cf594035a42e830b995cf28c": {
          "model_module": "@jupyter-widgets/controls",
          "model_name": "DescriptionStyleModel",
          "state": {
            "_view_name": "StyleView",
            "_model_name": "DescriptionStyleModel",
            "description_width": "",
            "_view_module": "@jupyter-widgets/base",
            "_model_module_version": "1.5.0",
            "_view_count": null,
            "_view_module_version": "1.2.0",
            "_model_module": "@jupyter-widgets/controls"
          }
        },
        "d6ece15021c247a0a789622885c1d2c2": {
          "model_module": "@jupyter-widgets/base",
          "model_name": "LayoutModel",
          "state": {
            "_view_name": "LayoutView",
            "grid_template_rows": null,
            "right": null,
            "justify_content": null,
            "_view_module": "@jupyter-widgets/base",
            "overflow": null,
            "_model_module_version": "1.2.0",
            "_view_count": null,
            "flex_flow": null,
            "width": null,
            "min_width": null,
            "border": null,
            "align_items": null,
            "bottom": null,
            "_model_module": "@jupyter-widgets/base",
            "top": null,
            "grid_column": null,
            "overflow_y": null,
            "overflow_x": null,
            "grid_auto_flow": null,
            "grid_area": null,
            "grid_template_columns": null,
            "flex": null,
            "_model_name": "LayoutModel",
            "justify_items": null,
            "grid_row": null,
            "max_height": null,
            "align_content": null,
            "visibility": null,
            "align_self": null,
            "height": null,
            "min_height": null,
            "padding": null,
            "grid_auto_rows": null,
            "grid_gap": null,
            "max_width": null,
            "order": null,
            "_view_module_version": "1.2.0",
            "grid_template_areas": null,
            "object_position": null,
            "object_fit": null,
            "grid_auto_columns": null,
            "margin": null,
            "display": null,
            "left": null
          }
        }
      }
    },
    "accelerator": "GPU"
  },
  "cells": [
    {
      "cell_type": "markdown",
      "metadata": {
        "id": "view-in-github",
        "colab_type": "text"
      },
      "source": [
        "<a href=\"https://colab.research.google.com/github/aka2910/hello-git/blob/akshat/Copy_of_Covid_project.ipynb\" target=\"_parent\"><img src=\"https://colab.research.google.com/assets/colab-badge.svg\" alt=\"Open In Colab\"/></a>"
      ]
    },
    {
      "cell_type": "code",
      "metadata": {
        "id": "dphs-BbamkOV"
      },
      "source": [
        "import os\n",
        "# !!kaggle.json is required in the /content folder!!\n",
        "os.environ['KAGGLE_CONFIG_DIR'] = '/content'\n",
        "!kaggle datasets download -d tawsifurrahman/covid19-radiography-database \n",
        "!unzip /content/*.zip"
      ],
      "execution_count": null,
      "outputs": []
    },
    {
      "cell_type": "code",
      "metadata": {
        "id": "NQdQIsf3DgT3"
      },
      "source": [
        "import tensorflow as tf\n",
        "import numpy as np\n",
        "import cv2 as cv\n",
        "import matplotlib.pyplot as plt\n",
        "import glob\n",
        "from sklearn.model_selection import train_test_split, StratifiedShuffleSplit\n",
        "\n",
        "path = '/content/'"
      ],
      "execution_count": null,
      "outputs": []
    },
    {
      "cell_type": "code",
      "metadata": {
        "id": "YxDqMK3ZvJLb"
      },
      "source": [
        "#3616 COVID-19 positive, 10,192 Normal, 6012 Lung Opacity (Non-COVID lung infection) and 1345 Viral Pneumonia images\n",
        "#Datasets split as: 875 COVID-19 positive, 2125 Normal (total 3000) per set\n",
        "#4 sets in total"
      ],
      "execution_count": null,
      "outputs": []
    },
    {
      "cell_type": "code",
      "metadata": {
        "id": "Yf0ARQvnIb_D",
        "cellView": "form"
      },
      "source": [
        "#@title Functions\n",
        "#creates datasets in the Datasets folder\n",
        "\n",
        "def create_dataset(n):\n",
        "    arraycov = np.array([cv.imread(file, 0) for file in glob.glob('/content/COVID-19_Radiography_Dataset/COVID/*.png')])[875*(n-1):875*n]/255.0\n",
        "    arraynorm = np.array([cv.imread(file, 0) for file in glob.glob('/content/COVID-19_Radiography_Dataset/Normal/*.png')])[1125*(n-1):1125*n]/255.0\n",
        "    print(\"Step 1: Completed\")\n",
        "\n",
        "    ncov = len(arraycov)\n",
        "    nnorm = len(arraynorm)\n",
        "\n",
        "    data_x = np.vstack((arraycov, arraynorm))\n",
        "    data_y = np.zeros((ncov+nnorm,1))\n",
        "\n",
        "    for i in range(ncov):\n",
        "        data_y[i] = 1       \n",
        "    print(\"Step 2: Completed\")\n",
        "\n",
        "    np.save(path + 'Datasets/data_set' + str(n), data_x)\n",
        "    np.save(path + 'Datasets/feature_set' + str(n), data_y)\n",
        "\n",
        "    print(\"Process Complete\")\n",
        "\n",
        "#returns (train data), (test data), m train, m test\n",
        "\n",
        "def train_test_data(dataset_num, blur_index):\n",
        "    data_x = np.load(path + 'Datasets/data_set' + str(dataset_num) + '.npy')\n",
        "    data_y = np.load(path + 'Datasets/feature_set' + str(dataset_num) + '.npy')\n",
        "\n",
        "    data_x = cv.GaussianBlur(data_x, (3,3), blur_index)\n",
        "\n",
        "    sss = StratifiedShuffleSplit(n_splits = 10, test_size = 0.3, random_state = 69)\n",
        "    for train_index, test_index in sss.split(data_x, data_y):\n",
        "        train_x, train_y = data_x[train_index], data_y[train_index]\n",
        "        test_x, test_y = data_x[test_index], data_y[test_index]\n",
        "    \n",
        "    m_train = len(train_x)\n",
        "    m_test = len(test_x)\n",
        "\n",
        "    train_x = train_x.reshape(m_train,299,299,1)\n",
        "    test_x = test_x.reshape(m_test,299,299,1)\n",
        "\n",
        "    print(\"X data (Training set): \", train_x.shape)\n",
        "    print(\"Y data (Training set): \", train_y.shape)\n",
        "    print(\"X data (Test set): \", test_x.shape)\n",
        "    print(\"Y data (Test set): \", test_y.shape)\n",
        "\n",
        "    return train_x, train_y, test_x, test_y, m_train, m_test   "
      ],
      "execution_count": null,
      "outputs": []
    },
    {
      "cell_type": "markdown",
      "metadata": {
        "id": "UN3uWofJ3lrZ"
      },
      "source": [
        "##Importing processed datasets"
      ]
    },
    {
      "cell_type": "code",
      "metadata": {
        "id": "FDtoDgxKkWcR",
        "colab": {
          "base_uri": "https://localhost:8080/"
        },
        "cellView": "form",
        "outputId": "cda1c328-eb20-484b-8632-8dbe0bc27da2"
      },
      "source": [
        "#@title Importing processed datasets 1 and 2\n",
        "train_x, train_y, test_x, test_y, m_train, m_test = train_test_data(2, 0)\n",
        "train_x2, train_y2, test_x2, test_y2, m_train2, m_test2 = train_test_data(3, 0)"
      ],
      "execution_count": null,
      "outputs": [
        {
          "output_type": "stream",
          "text": [
            "X data (Training set):  (2100, 299, 299, 1)\n",
            "Y data (Training set):  (2100, 1)\n",
            "X data (Test set):  (900, 299, 299, 1)\n",
            "Y data (Test set):  (900, 1)\n",
            "X data (Training set):  (2100, 299, 299, 1)\n",
            "Y data (Training set):  (2100, 1)\n",
            "X data (Test set):  (900, 299, 299, 1)\n",
            "Y data (Test set):  (900, 1)\n"
          ],
          "name": "stdout"
        }
      ]
    },
    {
      "cell_type": "markdown",
      "metadata": {
        "id": "5HIr4fra3srb"
      },
      "source": [
        "##Model"
      ]
    },
    {
      "cell_type": "code",
      "metadata": {
        "id": "p4_gl3tWF2UX"
      },
      "source": [
        "from keras.models import Sequential\n",
        "from keras.layers import Conv2D, Dense, MaxPool2D, Dropout, Flatten, BatchNormalization\n",
        "from keras.losses import BinaryCrossentropy, SparseCategoricalCrossentropy, CategoricalCrossentropy\n",
        "from keras.optimizers import SGD, Adam\n",
        "from tqdm.keras import TqdmCallback\n",
        "from keras import backend as k \n",
        "from keras.callbacks import EarlyStopping\n",
        "import sklearn.metrics"
      ],
      "execution_count": null,
      "outputs": []
    },
    {
      "cell_type": "code",
      "metadata": {
        "id": "_mKtGMRiF2CH"
      },
      "source": [
        "model = Sequential([\n",
        "                    Conv2D(96, (7,7), strides = (4,4), activation = 'relu', input_shape = (299,299,1)),\n",
        "                    MaxPool2D((3,3), strides = (2,2)),\n",
        "                    Dropout(0.2),\n",
        "                    Conv2D(128, (5,5), strides = (1,1), activation = 'relu', padding = 'same'),\n",
        "                    BatchNormalization(),\n",
        "                    Conv2D(128, (5,5), strides = (1,1), activation = 'relu', padding = 'same'),\n",
        "                    #BatchNormalization(),\n",
        "                    #Conv2D(128, (5,5), strides = (1,1), activation = 'relu', padding = 'same'),\n",
        "                    MaxPool2D((3,3), strides = (2,2)),\n",
        "                    Dropout(0.5),\n",
        "                    Flatten(),\n",
        "                    Dense(128, activation = 'relu'),\n",
        "                    Dense(32, activation = 'relu'),\n",
        "                    Dense(2, activation = 'softmax')\n",
        "])"
      ],
      "execution_count": null,
      "outputs": []
    },
    {
      "cell_type": "code",
      "metadata": {
        "id": "rm1JC7UHVfU3"
      },
      "source": [
        "def append_history(m1, m2):\n",
        "    m1.history['accuracy'] = np.append(m1.history['accuracy'], m2.history['accuracy'])\n",
        "    m1.history['val_accuracy'] = np.append(m1.history['val_accuracy'], m2.history['val_accuracy'])\n",
        "    m1.history['loss'] = np.append(m1.history['loss'], m2.history['loss'])\n",
        "    m1.history['val_loss'] = np.append(m1.history['val_loss'], m2.history['val_loss'])\n",
        "\n",
        "    return m1    "
      ],
      "execution_count": null,
      "outputs": []
    },
    {
      "cell_type": "code",
      "metadata": {
        "id": "Ip5VIFbbrF5c"
      },
      "source": [
        "#k.clear_session()"
      ],
      "execution_count": null,
      "outputs": []
    },
    {
      "cell_type": "code",
      "metadata": {
        "colab": {
          "base_uri": "https://localhost:8080/"
        },
        "id": "EEbnzKg9W4oL",
        "outputId": "63597eb1-7f14-4cc7-8791-df871e5cf574"
      },
      "source": [
        "model.summary()"
      ],
      "execution_count": null,
      "outputs": [
        {
          "output_type": "stream",
          "text": [
            "Model: \"sequential_1\"\n",
            "_________________________________________________________________\n",
            "Layer (type)                 Output Shape              Param #   \n",
            "=================================================================\n",
            "conv2d_3 (Conv2D)            (None, 74, 74, 96)        4800      \n",
            "_________________________________________________________________\n",
            "max_pooling2d_2 (MaxPooling2 (None, 36, 36, 96)        0         \n",
            "_________________________________________________________________\n",
            "dropout_2 (Dropout)          (None, 36, 36, 96)        0         \n",
            "_________________________________________________________________\n",
            "conv2d_4 (Conv2D)            (None, 36, 36, 128)       307328    \n",
            "_________________________________________________________________\n",
            "batch_normalization_1 (Batch (None, 36, 36, 128)       512       \n",
            "_________________________________________________________________\n",
            "conv2d_5 (Conv2D)            (None, 36, 36, 128)       409728    \n",
            "_________________________________________________________________\n",
            "max_pooling2d_3 (MaxPooling2 (None, 17, 17, 128)       0         \n",
            "_________________________________________________________________\n",
            "dropout_3 (Dropout)          (None, 17, 17, 128)       0         \n",
            "_________________________________________________________________\n",
            "flatten_1 (Flatten)          (None, 36992)             0         \n",
            "_________________________________________________________________\n",
            "dense_3 (Dense)              (None, 128)               4735104   \n",
            "_________________________________________________________________\n",
            "dense_4 (Dense)              (None, 32)                4128      \n",
            "_________________________________________________________________\n",
            "dense_5 (Dense)              (None, 2)                 66        \n",
            "=================================================================\n",
            "Total params: 5,461,666\n",
            "Trainable params: 5,461,410\n",
            "Non-trainable params: 256\n",
            "_________________________________________________________________\n"
          ],
          "name": "stdout"
        }
      ]
    },
    {
      "cell_type": "code",
      "metadata": {
        "id": "khtZ4Iq8IKJZ"
      },
      "source": [
        "optimizer = SGD(learning_rate = 0.01, momentum = 0.9)\n",
        "model.compile(optimizer = optimizer, loss = SparseCategoricalCrossentropy(), metrics = ['accuracy'])\n",
        "es_callback = EarlyStopping(monitor = 'val_loss', patience = 5)"
      ],
      "execution_count": null,
      "outputs": []
    },
    {
      "cell_type": "code",
      "metadata": {
        "colab": {
          "base_uri": "https://localhost:8080/",
          "height": 339,
          "referenced_widgets": [
            "e86f17a885684f13bd58b8ed1209b9a5",
            "615aa052b5b64e7cb400c8497c544e3a",
            "e4832475b0fa4e01a57ea07b3bdbd030",
            "f95e14b1634742b78b372098896e535b",
            "e78ba71f5d724ee3a4d2d3d59eeced3d",
            "216f00fc23ec4488932944bf60dc11d5",
            "bf07942fd50143ab8abc621280a67d12",
            "b1b468073e194ba882499546cc9a36a1",
            "cee12dbc43f34b24be0b97fbf85b10e0",
            "63dc92720e85422b8eeb496f5fe72b36",
            "68e29fcc93494725a83b3009e799de84",
            "6e4ea232ef184f71958ad57908912123",
            "06276d6e64cf43859c60860a9d00a348",
            "941cfccd913a4747b57764209071c235",
            "c75258eb9ff142eba4cdf3944e9eb746",
            "f674bc3a4fd04737aa369010f234e142"
          ]
        },
        "id": "ANH8LYLaImcS",
        "outputId": "0f45bd6a-4c9f-4f35-e403-7e45b50b7447"
      },
      "source": [
        "history = model.fit(train_x, train_y, batch_size = 32, \n",
        "                    validation_data = (test_x,test_y), validation_batch_size = 16,\n",
        "                    epochs = 10, verbose = 0, callbacks = [TqdmCallback(verbose=0), es_callback])\n",
        "\n",
        "k.set_value(model.optimizer.learning_rate, 0.0001)\n",
        "\n",
        "history1 = model.fit(train_x, train_y, batch_size = 32, \n",
        "                     validation_data = (test_x,test_y), validation_batch_size = 16,\n",
        "                     epochs = 200, verbose = 0, callbacks = [TqdmCallback(verbose=0), es_callback])\n"
      ],
      "execution_count": null,
      "outputs": [
        {
          "output_type": "display_data",
          "data": {
            "application/vnd.jupyter.widget-view+json": {
              "model_id": "e86f17a885684f13bd58b8ed1209b9a5",
              "version_minor": 0,
              "version_major": 2
            },
            "text/plain": [
              "HBox(children=(FloatProgress(value=1.0, bar_style='info', max=1.0), HTML(value='')))"
            ]
          },
          "metadata": {
            "tags": []
          }
        },
        {
          "output_type": "stream",
          "text": [
            "\n"
          ],
          "name": "stdout"
        },
        {
          "output_type": "display_data",
          "data": {
            "application/vnd.jupyter.widget-view+json": {
              "model_id": "cee12dbc43f34b24be0b97fbf85b10e0",
              "version_minor": 0,
              "version_major": 2
            },
            "text/plain": [
              "HBox(children=(FloatProgress(value=1.0, bar_style='info', max=1.0), HTML(value='')))"
            ]
          },
          "metadata": {
            "tags": []
          }
        },
        {
          "output_type": "stream",
          "text": [
            "\n"
          ],
          "name": "stdout"
        },
        {
          "output_type": "error",
          "ename": "NameError",
          "evalue": "ignored",
          "traceback": [
            "\u001b[0;31m---------------------------------------------------------------------------\u001b[0m",
            "\u001b[0;31mNameError\u001b[0m                                 Traceback (most recent call last)",
            "\u001b[0;32m<ipython-input-30-6e25591c6fad>\u001b[0m in \u001b[0;36m<module>\u001b[0;34m()\u001b[0m\n\u001b[1;32m      9\u001b[0m                      epochs = 200, verbose = 0, callbacks = [TqdmCallback(verbose=0), es_callback])\n\u001b[1;32m     10\u001b[0m \u001b[0;34m\u001b[0m\u001b[0m\n\u001b[0;32m---> 11\u001b[0;31m history2 = model.fit(train_x2, train_y2, batch_size = 32, \n\u001b[0m\u001b[1;32m     12\u001b[0m                      \u001b[0mvalidation_data\u001b[0m \u001b[0;34m=\u001b[0m \u001b[0;34m(\u001b[0m\u001b[0mtest_x\u001b[0m\u001b[0;34m,\u001b[0m \u001b[0mtest_y\u001b[0m\u001b[0;34m)\u001b[0m\u001b[0;34m,\u001b[0m \u001b[0mvalidation_batch_size\u001b[0m \u001b[0;34m=\u001b[0m \u001b[0;36m16\u001b[0m\u001b[0;34m,\u001b[0m\u001b[0;34m\u001b[0m\u001b[0;34m\u001b[0m\u001b[0m\n\u001b[1;32m     13\u001b[0m                      epochs = 200, verbose = 0, callbacks = [TqdmCallback(verbose=0), es_callback])\n",
            "\u001b[0;31mNameError\u001b[0m: name 'train_x2' is not defined"
          ]
        }
      ]
    },
    {
      "cell_type": "code",
      "metadata": {
        "id": "leeXMJnSSRfA"
      },
      "source": [
        "es_callback = EarlyStopping(monitor = 'val_accuracy', patience = 5)"
      ],
      "execution_count": null,
      "outputs": []
    },
    {
      "cell_type": "code",
      "metadata": {
        "colab": {
          "base_uri": "https://localhost:8080/",
          "height": 49,
          "referenced_widgets": [
            "e9eb78a8b5df4bfe81bbc4da17c25c84",
            "032646fe82a249c89b111ee2b79071ba",
            "0ebc2c5a1660412f98af78bb61f2c092",
            "095aacd71371413cab6a337d49f7192e",
            "b9114cfa227b4cd18253f3450face5d2",
            "129f33d8602342d29194be14eee121f1",
            "a9f1d4d9cf594035a42e830b995cf28c",
            "d6ece15021c247a0a789622885c1d2c2"
          ]
        },
        "id": "45krZ4DgR9Eg",
        "outputId": "0a6a51e8-54a9-4d4c-b963-450569d6f80a"
      },
      "source": [
        "history2 = model.fit(train_x, train_y, batch_size = 32, \n",
        "                     validation_data = (test_x,test_y), validation_batch_size = 16,\n",
        "                     epochs = 200, verbose = 0, callbacks = [TqdmCallback(verbose=0)])"
      ],
      "execution_count": null,
      "outputs": [
        {
          "output_type": "display_data",
          "data": {
            "application/vnd.jupyter.widget-view+json": {
              "model_id": "e9eb78a8b5df4bfe81bbc4da17c25c84",
              "version_minor": 0,
              "version_major": 2
            },
            "text/plain": [
              "HBox(children=(FloatProgress(value=1.0, bar_style='info', max=1.0), HTML(value='')))"
            ]
          },
          "metadata": {
            "tags": []
          }
        }
      ]
    },
    {
      "cell_type": "code",
      "metadata": {
        "id": "cY-g_ootI3QO",
        "colab": {
          "base_uri": "https://localhost:8080/"
        },
        "outputId": "e2e8380a-4e31-48c3-87c9-944ce7d85e80"
      },
      "source": [
        "model.evaluate(test_x, test_y)"
      ],
      "execution_count": null,
      "outputs": [
        {
          "output_type": "stream",
          "text": [
            "29/29 [==============================] - 1s 17ms/step - loss: 0.0297 - accuracy: 0.9922\n"
          ],
          "name": "stdout"
        },
        {
          "output_type": "execute_result",
          "data": {
            "text/plain": [
              "[0.029744667932391167, 0.992222249507904]"
            ]
          },
          "metadata": {
            "tags": []
          },
          "execution_count": 17
        }
      ]
    },
    {
      "cell_type": "code",
      "metadata": {
        "id": "ydULj8yRWBSb",
        "colab": {
          "base_uri": "https://localhost:8080/",
          "height": 336
        },
        "outputId": "1c38f58c-5a38-4af3-e3bb-795c073b165b"
      },
      "source": [
        "#history = append_history(history, history1)\n",
        "history = append_history(history, history2)\n",
        "\n",
        "#Plots\n",
        "plt.figure(figsize = (10,5))\n",
        "plt.subplot(121)\n",
        "plt.plot(history.history['accuracy'], label='Train')\n",
        "plt.plot(history.history['val_accuracy'], label='Test')\n",
        "plt.title(\"Accuracy\")\n",
        "plt.legend()\n",
        "\n",
        "plt.subplot(122)\n",
        "plt.plot(history.history['loss'], label='Train')\n",
        "plt.plot(history.history['val_loss'], label='Test')\n",
        "plt.title(\"Loss\")\n",
        "plt.legend()\n",
        "\n",
        "plt.show()"
      ],
      "execution_count": null,
      "outputs": [
        {
          "output_type": "display_data",
          "data": {
            "image/png": "[encoded data removed]",
            "text/plain": [
              "<Figure size 720x360 with 2 Axes>"
            ]
          },
          "metadata": {
            "tags": [],
            "needs_background": "light"
          }
        }
      ]
    },
    {
      "cell_type": "code",
      "metadata": {
        "id": "KaLIQu3ghMcx"
      },
      "source": [
        "model.save('/content/drive/Shareddrives/Colab Stuff/Covid19/Models/set2_v7_backup.h5')"
      ],
      "execution_count": null,
      "outputs": []
    },
    {
      "cell_type": "markdown",
      "metadata": {
        "id": "YE8aQcpjHgp_"
      },
      "source": [
        "##Testing on different sets"
      ]
    },
    {
      "cell_type": "markdown",
      "metadata": {
        "id": "FzLLmZeTuuZt"
      },
      "source": [
        "Summary: Models are trained on the dataset2, using (train_x, train_y) with validation data (test_x, test_y). The following section evaluates the selected model on the data (test_x, test_y) and dataset3"
      ]
    },
    {
      "cell_type": "code",
      "metadata": {
        "id": "nLsbd2hfHfe2"
      },
      "source": [
        "from keras.models import load_model"
      ],
      "execution_count": null,
      "outputs": []
    },
    {
      "cell_type": "code",
      "metadata": {
        "id": "0c-2jLb6HnEN"
      },
      "source": [
        "model2 = load_model(path + 'Models/set2_v7.h5')"
      ],
      "execution_count": null,
      "outputs": []
    },
    {
      "cell_type": "code",
      "metadata": {
        "id": "SnKgfFsRl8GQ",
        "colab": {
          "base_uri": "https://localhost:8080/"
        },
        "outputId": "e2723c95-5923-491b-9246-0b2e0a836b48"
      },
      "source": [
        "model2.summary()"
      ],
      "execution_count": null,
      "outputs": [
        {
          "output_type": "stream",
          "text": [
            "Model: \"sequential_1\"\n",
            "_________________________________________________________________\n",
            "Layer (type)                 Output Shape              Param #   \n",
            "=================================================================\n",
            "conv2d_4 (Conv2D)            (None, 74, 74, 96)        4800      \n",
            "_________________________________________________________________\n",
            "max_pooling2d_2 (MaxPooling2 (None, 36, 36, 96)        0         \n",
            "_________________________________________________________________\n",
            "dropout_2 (Dropout)          (None, 36, 36, 96)        0         \n",
            "_________________________________________________________________\n",
            "conv2d_5 (Conv2D)            (None, 36, 36, 128)       307328    \n",
            "_________________________________________________________________\n",
            "batch_normalization_2 (Batch (None, 36, 36, 128)       512       \n",
            "_________________________________________________________________\n",
            "conv2d_6 (Conv2D)            (None, 36, 36, 128)       409728    \n",
            "_________________________________________________________________\n",
            "max_pooling2d_3 (MaxPooling2 (None, 17, 17, 128)       0         \n",
            "_________________________________________________________________\n",
            "dropout_3 (Dropout)          (None, 17, 17, 128)       0         \n",
            "_________________________________________________________________\n",
            "flatten_1 (Flatten)          (None, 36992)             0         \n",
            "_________________________________________________________________\n",
            "dense_2 (Dense)              (None, 256)               9470208   \n",
            "_________________________________________________________________\n",
            "dense_3 (Dense)              (None, 2)                 514       \n",
            "=================================================================\n",
            "Total params: 10,193,090\n",
            "Trainable params: 10,192,834\n",
            "Non-trainable params: 256\n",
            "_________________________________________________________________\n"
          ],
          "name": "stdout"
        }
      ]
    },
    {
      "cell_type": "code",
      "metadata": {
        "id": "NKd5d88xH3Ld",
        "colab": {
          "base_uri": "https://localhost:8080/"
        },
        "outputId": "98641f5e-8e2a-490e-99ce-515ea210ca76"
      },
      "source": [
        "results = np.array((model2.evaluate(test_x, test_y),  \n",
        "                   model2.evaluate(test_x2, test_y2), \n",
        "                   model2.evaluate(test_x3, test_y3)))\n",
        "print(results)"
      ],
      "execution_count": null,
      "outputs": [
        {
          "output_type": "stream",
          "text": [
            "29/29 [==============================] - 1s 17ms/step - loss: 0.0297 - accuracy: 0.9922\n",
            "29/29 [==============================] - 0s 15ms/step - loss: 0.0311 - accuracy: 0.9878\n",
            "29/29 [==============================] - 0s 14ms/step - loss: 0.1265 - accuracy: 0.9633\n",
            "[[0.02974467 0.99222225]\n",
            " [0.03114596 0.98777777]\n",
            " [0.12649141 0.96333331]]\n"
          ],
          "name": "stdout"
        }
      ]
    },
    {
      "cell_type": "code",
      "metadata": {
        "id": "W9pQNHTRly7U",
        "colab": {
          "base_uri": "https://localhost:8080/"
        },
        "outputId": "d10faf77-3de6-4d4b-83e9-e24d9832880f"
      },
      "source": [
        "np.average(results, axis=0)"
      ],
      "execution_count": null,
      "outputs": [
        {
          "output_type": "execute_result",
          "data": {
            "text/plain": [
              "array([0.06246068, 0.98111111])"
            ]
          },
          "metadata": {
            "tags": []
          },
          "execution_count": 10
        }
      ]
    }
  ]
}