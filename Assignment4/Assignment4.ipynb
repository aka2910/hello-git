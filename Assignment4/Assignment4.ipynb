{
 "cells": [
  {
   "cell_type": "markdown",
   "id": "enormous-digit",
   "metadata": {},
   "source": [
    "# Assignment 4 : Neural Networks"
   ]
  },
  {
   "cell_type": "markdown",
   "id": "fossil-examination",
   "metadata": {},
   "source": [
    "In this assignment, you will design an artificial neural network for a binary classification task. We will use Keras for implementing the neural network in this assignment. You can also use numpy, pandas and/or scikit-learn wherever you find them useful. You'll also need matplotlib"
   ]
  },
  {
   "cell_type": "markdown",
   "id": "promotional-gallery",
   "metadata": {},
   "source": [
    "#### Import the required libraries here"
   ]
  },
  {
   "cell_type": "code",
   "execution_count": 1,
   "id": "cathedral-liberty",
   "metadata": {},
   "outputs": [
    {
     "name": "stdout",
     "output_type": "stream",
     "text": [
      "INFO:tensorflow:Enabling eager execution\n",
      "INFO:tensorflow:Enabling v2 tensorshape\n",
      "INFO:tensorflow:Enabling resource variables\n",
      "INFO:tensorflow:Enabling tensor equality\n",
      "INFO:tensorflow:Enabling control flow v2\n"
     ]
    }
   ],
   "source": [
    "import numpy as np\n",
    "import pandas as pd\n",
    "import matplotlib.pyplot as plt\n",
    "import tensorflow as tf\n",
    "from sklearn.metrics import confusion_matrix as cm\n",
    "from sklearn.preprocessing import normalize\n",
    "from sklearn.neighbors import KNeighborsClassifier as knc\n",
    "from sklearn.ensemble import RandomForestClassifier as rfc\n",
    "from sklearn.linear_model import LogisticRegression as lr\n",
    "from sklearn.svm import SVC\n",
    "from sklearn.tree import DecisionTreeClassifier as dtc"
   ]
  },
  {
   "cell_type": "markdown",
   "id": "august-conditions",
   "metadata": {},
   "source": [
    "Load the dataset from the file named 'data.csv' . You'll find 7200 datapoints in this file. The first 6 columns are the features (X), while the last column has a binary label (Y) for each feature vector. After loading the dataset, divide it into a training set and a test set (cross-validation set to be more accurate). You can have 70% datapoints in the training set and 30% in the test set. An 80-20 split is also acceptable.\n",
    "\n",
    "Normalize your training set using mean and variances."
   ]
  },
  {
   "cell_type": "code",
   "execution_count": 2,
   "id": "narrow-fraud",
   "metadata": {},
   "outputs": [
    {
     "name": "stdout",
     "output_type": "stream",
     "text": [
      "         0        1       2      3      4       5  6\n",
      "0     0.73  0.00060  0.0150  0.120  0.082  0.1460  0\n",
      "1     0.24  0.00025  0.0300  0.143  0.133  0.1080  0\n",
      "2     0.47  0.00190  0.0240  0.102  0.131  0.0780  0\n",
      "3     0.64  0.00090  0.0170  0.077  0.090  0.0850  0\n",
      "4     0.23  0.00025  0.0260  0.139  0.090  0.1530  0\n",
      "...    ...      ...     ...    ...    ...     ... ..\n",
      "7195  0.59  0.00250  0.0208  0.079  0.099  0.0800  0\n",
      "7196  0.51  0.10600  0.0060  0.005  0.089  0.0055  1\n",
      "7197  0.51  0.00076  0.0201  0.090  0.067  0.1340  0\n",
      "7198  0.35  0.00280  0.0201  0.090  0.089  0.1010  0\n",
      "7199  0.73  0.00056  0.0201  0.081  0.090  0.0900  0\n",
      "\n",
      "[7200 rows x 7 columns]\n",
      "(7200, 6) (5760, 6) (1440, 6)\n",
      "(7200,) (5760,) (1440,)\n"
     ]
    }
   ],
   "source": [
    "df=pd.read_csv(\"data.csv\",header=None)\n",
    "print(df)\n",
    "x=np.array(df[[0,1,2,3,4,5]])\n",
    "x=x/np.linalg.norm(x, ord=2, axis=1, keepdims=True)\n",
    "x=normalize(x,axis=1,norm='l2')\n",
    "y=np.array(df[6]).copy()\n",
    "k=int(x.shape[0]*0.8)#8:2 split\n",
    "train_data=x[0:k];test_data=x[k:]\n",
    "train_label=y[0:k];test_label=y[k:]\n",
    "#print(df) I will directly flatten the data while training\n",
    "print(x.shape,train_data.shape,test_data.shape)\n",
    "print(y.shape,train_label.shape,test_label.shape)"
   ]
  },
  {
   "cell_type": "markdown",
   "id": "green-bones",
   "metadata": {},
   "source": [
    "Find the number of positive and negative samples in the training set /test set /the whole dataset. You'll use this result while evaluating your neural network model later."
   ]
  },
  {
   "cell_type": "code",
   "execution_count": 3,
   "id": "purple-swimming",
   "metadata": {},
   "outputs": [
    {
     "name": "stdout",
     "output_type": "stream",
     "text": [
      "positive_count= 534, negative_count=6666\n"
     ]
    }
   ],
   "source": [
    "count_pos=np.count_nonzero(y)\n",
    "count_neg=len(y)-count_pos\n",
    "print(\"positive_count= {}, negative_count={}\".format(count_pos,count_neg))"
   ]
  },
  {
   "cell_type": "markdown",
   "id": "cooperative-stewart",
   "metadata": {},
   "source": [
    "#### Define the architecture of the neural network\n",
    "\n",
    "Initialise a sequential neural network model using keras.models.Sequential(), and add dense layers (dense layer means fully-connected layer) to it using keras.layers.Dense() (you easily how to do this from the internet).\n",
    "\n",
    "Use ReLU activation function in every layer, except the last one, where you'll use the sigmoid activation function, since it's a binary classification task.\n",
    "\n",
    "The choice of the number of layers and the number of units in a layer is totally up to you."
   ]
  },
  {
   "cell_type": "code",
   "execution_count": 4,
   "id": "fiscal-terror",
   "metadata": {
    "scrolled": true
   },
   "outputs": [
    {
     "name": "stdout",
     "output_type": "stream",
     "text": [
      "Epoch 1/100\n",
      "1152/1152 [==============================] - 1s 550us/step - loss: 0.2630 - accuracy: 0.9170\n",
      "Epoch 2/100\n",
      "1152/1152 [==============================] - 1s 534us/step - loss: 0.2228 - accuracy: 0.9247\n",
      "Epoch 3/100\n",
      "1152/1152 [==============================] - 1s 541us/step - loss: 0.1958 - accuracy: 0.9380\n",
      "Epoch 4/100\n",
      "1152/1152 [==============================] - 1s 496us/step - loss: 0.1713 - accuracy: 0.9439\n",
      "Epoch 5/100\n",
      "1152/1152 [==============================] - 1s 615us/step - loss: 0.1582 - accuracy: 0.9497\n",
      "Epoch 6/100\n",
      "1152/1152 [==============================] - 1s 563us/step - loss: 0.1513 - accuracy: 0.9517\n",
      "Epoch 7/100\n",
      "1152/1152 [==============================] - 1s 597us/step - loss: 0.1556 - accuracy: 0.9531\n",
      "Epoch 8/100\n",
      "1152/1152 [==============================] - 1s 570us/step - loss: 0.1495 - accuracy: 0.9540\n",
      "Epoch 9/100\n",
      "1152/1152 [==============================] - 1s 588us/step - loss: 0.1533 - accuracy: 0.9545\n",
      "Epoch 10/100\n",
      "1152/1152 [==============================] - 1s 533us/step - loss: 0.1496 - accuracy: 0.9523\n",
      "Epoch 11/100\n",
      "1152/1152 [==============================] - 1s 540us/step - loss: 0.1484 - accuracy: 0.9554\n",
      "Epoch 12/100\n",
      "1152/1152 [==============================] - 1s 581us/step - loss: 0.1533 - accuracy: 0.9568\n",
      "Epoch 13/100\n",
      "1152/1152 [==============================] - 1s 540us/step - loss: 0.1502 - accuracy: 0.9552\n",
      "Epoch 14/100\n",
      "1152/1152 [==============================] - 1s 682us/step - loss: 0.1463 - accuracy: 0.9533\n",
      "Epoch 15/100\n",
      "1152/1152 [==============================] - 1s 634us/step - loss: 0.1440 - accuracy: 0.9568\n",
      "Epoch 16/100\n",
      "1152/1152 [==============================] - 1s 526us/step - loss: 0.1435 - accuracy: 0.9563\n",
      "Epoch 17/100\n",
      "1152/1152 [==============================] - 1s 534us/step - loss: 0.1548 - accuracy: 0.9533\n",
      "Epoch 18/100\n",
      "1152/1152 [==============================] - 1s 504us/step - loss: 0.1481 - accuracy: 0.9542\n",
      "Epoch 19/100\n",
      "1152/1152 [==============================] - 1s 502us/step - loss: 0.1515 - accuracy: 0.9554\n",
      "Epoch 20/100\n",
      "1152/1152 [==============================] - 1s 583us/step - loss: 0.1503 - accuracy: 0.9545\n",
      "Epoch 21/100\n",
      "1152/1152 [==============================] - 1s 499us/step - loss: 0.1629 - accuracy: 0.9516\n",
      "Epoch 22/100\n",
      "1152/1152 [==============================] - 1s 509us/step - loss: 0.1418 - accuracy: 0.9535\n",
      "Epoch 23/100\n",
      "1152/1152 [==============================] - 1s 513us/step - loss: 0.1518 - accuracy: 0.9543\n",
      "Epoch 24/100\n",
      "1152/1152 [==============================] - 1s 555us/step - loss: 0.1506 - accuracy: 0.9531\n",
      "Epoch 25/100\n",
      "1152/1152 [==============================] - 1s 555us/step - loss: 0.1609 - accuracy: 0.9521\n",
      "Epoch 26/100\n",
      "1152/1152 [==============================] - 1s 724us/step - loss: 0.1527 - accuracy: 0.9543\n",
      "Epoch 27/100\n",
      "1152/1152 [==============================] - 1s 690us/step - loss: 0.1501 - accuracy: 0.9540\n",
      "Epoch 28/100\n",
      "1152/1152 [==============================] - 1s 625us/step - loss: 0.1448 - accuracy: 0.9540\n",
      "Epoch 29/100\n",
      "1152/1152 [==============================] - 1s 551us/step - loss: 0.1506 - accuracy: 0.9524\n",
      "Epoch 30/100\n",
      "1152/1152 [==============================] - 1s 601us/step - loss: 0.1463 - accuracy: 0.9559\n",
      "Epoch 31/100\n",
      "1152/1152 [==============================] - 1s 592us/step - loss: 0.1471 - accuracy: 0.9533\n",
      "Epoch 32/100\n",
      "1152/1152 [==============================] - 1s 583us/step - loss: 0.1463 - accuracy: 0.9559\n",
      "Epoch 33/100\n",
      "1152/1152 [==============================] - 1s 653us/step - loss: 0.1462 - accuracy: 0.9568\n",
      "Epoch 34/100\n",
      "1152/1152 [==============================] - 1s 624us/step - loss: 0.1456 - accuracy: 0.9569\n",
      "Epoch 35/100\n",
      "1152/1152 [==============================] - 1s 614us/step - loss: 0.1349 - accuracy: 0.9575\n",
      "Epoch 36/100\n",
      "1152/1152 [==============================] - 1s 571us/step - loss: 0.1371 - accuracy: 0.9594\n",
      "Epoch 37/100\n",
      "1152/1152 [==============================] - 1s 548us/step - loss: 0.1444 - accuracy: 0.9595\n",
      "Epoch 38/100\n",
      "1152/1152 [==============================] - 1s 580us/step - loss: 0.1479 - accuracy: 0.9569\n",
      "Epoch 39/100\n",
      "1152/1152 [==============================] - 1s 660us/step - loss: 0.1577 - accuracy: 0.9530\n",
      "Epoch 40/100\n",
      "1152/1152 [==============================] - 1s 593us/step - loss: 0.1389 - accuracy: 0.9552\n",
      "Epoch 41/100\n",
      "1152/1152 [==============================] - 1s 575us/step - loss: 0.1525 - accuracy: 0.9552\n",
      "Epoch 42/100\n",
      "1152/1152 [==============================] - 1s 550us/step - loss: 0.1485 - accuracy: 0.9561\n",
      "Epoch 43/100\n",
      "1152/1152 [==============================] - 1s 627us/step - loss: 0.1448 - accuracy: 0.9576\n",
      "Epoch 44/100\n",
      "1152/1152 [==============================] - 1s 615us/step - loss: 0.1550 - accuracy: 0.9517\n",
      "Epoch 45/100\n",
      "1152/1152 [==============================] - 1s 536us/step - loss: 0.1572 - accuracy: 0.9521\n",
      "Epoch 46/100\n",
      "1152/1152 [==============================] - 1s 615us/step - loss: 0.1486 - accuracy: 0.9552\n",
      "Epoch 47/100\n",
      "1152/1152 [==============================] - 1s 591us/step - loss: 0.1466 - accuracy: 0.9533\n",
      "Epoch 48/100\n",
      "1152/1152 [==============================] - 1s 627us/step - loss: 0.1418 - accuracy: 0.9575\n",
      "Epoch 49/100\n",
      "1152/1152 [==============================] - 1s 602us/step - loss: 0.1493 - accuracy: 0.9563\n",
      "Epoch 50/100\n",
      "1152/1152 [==============================] - 1s 510us/step - loss: 0.1357 - accuracy: 0.9582\n",
      "Epoch 51/100\n",
      "1152/1152 [==============================] - 1s 543us/step - loss: 0.1303 - accuracy: 0.9602\n",
      "Epoch 52/100\n",
      "1152/1152 [==============================] - 1s 530us/step - loss: 0.1409 - accuracy: 0.9590\n",
      "Epoch 53/100\n",
      "1152/1152 [==============================] - 1s 533us/step - loss: 0.1453 - accuracy: 0.9569\n",
      "Epoch 54/100\n",
      "1152/1152 [==============================] - 1s 631us/step - loss: 0.1401 - accuracy: 0.9582\n",
      "Epoch 55/100\n",
      "1152/1152 [==============================] - 1s 588us/step - loss: 0.1533 - accuracy: 0.9556\n",
      "Epoch 56/100\n",
      "1152/1152 [==============================] - 1s 549us/step - loss: 0.1479 - accuracy: 0.9549\n",
      "Epoch 57/100\n",
      "1152/1152 [==============================] - 1s 526us/step - loss: 0.1387 - accuracy: 0.9571\n",
      "Epoch 58/100\n",
      "1152/1152 [==============================] - 1s 651us/step - loss: 0.1431 - accuracy: 0.9569\n",
      "Epoch 59/100\n",
      "1152/1152 [==============================] - 1s 600us/step - loss: 0.1480 - accuracy: 0.9552\n",
      "Epoch 60/100\n",
      "1152/1152 [==============================] - 1s 527us/step - loss: 0.1373 - accuracy: 0.9573\n",
      "Epoch 61/100\n",
      "1152/1152 [==============================] - 1s 627us/step - loss: 0.1407 - accuracy: 0.9585\n",
      "Epoch 62/100\n",
      "1152/1152 [==============================] - 1s 557us/step - loss: 0.1518 - accuracy: 0.9543\n",
      "Epoch 63/100\n",
      "1152/1152 [==============================] - 1s 575us/step - loss: 0.1412 - accuracy: 0.9575\n",
      "Epoch 64/100\n",
      "1152/1152 [==============================] - 1s 587us/step - loss: 0.1520 - accuracy: 0.9559\n",
      "Epoch 65/100\n",
      "1152/1152 [==============================] - 1s 531us/step - loss: 0.1460 - accuracy: 0.9563\n",
      "Epoch 66/100\n",
      "1152/1152 [==============================] - 1s 765us/step - loss: 0.1340 - accuracy: 0.9590\n",
      "Epoch 67/100\n",
      "1152/1152 [==============================] - 1s 545us/step - loss: 0.1416 - accuracy: 0.9571\n",
      "Epoch 68/100\n",
      "1152/1152 [==============================] - 1s 642us/step - loss: 0.1409 - accuracy: 0.9597\n",
      "Epoch 69/100\n",
      "1152/1152 [==============================] - 1s 612us/step - loss: 0.1356 - accuracy: 0.9583\n",
      "Epoch 70/100\n",
      "1152/1152 [==============================] - 1s 527us/step - loss: 0.1407 - accuracy: 0.9573\n",
      "Epoch 71/100\n",
      "1152/1152 [==============================] - 1s 660us/step - loss: 0.1420 - accuracy: 0.9587\n",
      "Epoch 72/100\n",
      "1152/1152 [==============================] - 1s 524us/step - loss: 0.1390 - accuracy: 0.9563\n",
      "Epoch 73/100\n",
      "1152/1152 [==============================] - 1s 570us/step - loss: 0.1474 - accuracy: 0.9569\n",
      "Epoch 74/100\n",
      "1152/1152 [==============================] - 1s 534us/step - loss: 0.1401 - accuracy: 0.9582\n",
      "Epoch 75/100\n",
      "1152/1152 [==============================] - 1s 549us/step - loss: 0.1468 - accuracy: 0.9566\n",
      "Epoch 76/100\n",
      "1152/1152 [==============================] - 1s 549us/step - loss: 0.1398 - accuracy: 0.9559\n",
      "Epoch 77/100\n",
      "1152/1152 [==============================] - 1s 617us/step - loss: 0.1360 - accuracy: 0.9590\n",
      "Epoch 78/100\n"
     ]
    },
    {
     "name": "stdout",
     "output_type": "stream",
     "text": [
      "1152/1152 [==============================] - 1s 554us/step - loss: 0.1422 - accuracy: 0.9592\n",
      "Epoch 79/100\n",
      "1152/1152 [==============================] - 1s 575us/step - loss: 0.1425 - accuracy: 0.9589\n",
      "Epoch 80/100\n",
      "1152/1152 [==============================] - 1s 518us/step - loss: 0.1452 - accuracy: 0.9561\n",
      "Epoch 81/100\n",
      "1152/1152 [==============================] - 1s 517us/step - loss: 0.1492 - accuracy: 0.9556\n",
      "Epoch 82/100\n",
      "1152/1152 [==============================] - 1s 554us/step - loss: 0.1332 - accuracy: 0.9573\n",
      "Epoch 83/100\n",
      "1152/1152 [==============================] - 1s 552us/step - loss: 0.1429 - accuracy: 0.9569\n",
      "Epoch 84/100\n",
      "1152/1152 [==============================] - 1s 515us/step - loss: 0.1435 - accuracy: 0.9573\n",
      "Epoch 85/100\n",
      "1152/1152 [==============================] - 1s 529us/step - loss: 0.1505 - accuracy: 0.9536\n",
      "Epoch 86/100\n",
      "1152/1152 [==============================] - 1s 516us/step - loss: 0.1446 - accuracy: 0.9585\n",
      "Epoch 87/100\n",
      "1152/1152 [==============================] - 1s 512us/step - loss: 0.1447 - accuracy: 0.9566\n",
      "Epoch 88/100\n",
      "1152/1152 [==============================] - 1s 567us/step - loss: 0.1447 - accuracy: 0.9559\n",
      "Epoch 89/100\n",
      "1152/1152 [==============================] - 1s 613us/step - loss: 0.1419 - accuracy: 0.9549\n",
      "Epoch 90/100\n",
      "1152/1152 [==============================] - 1s 632us/step - loss: 0.1516 - accuracy: 0.9552\n",
      "Epoch 91/100\n",
      "1152/1152 [==============================] - 1s 676us/step - loss: 0.1457 - accuracy: 0.9547\n",
      "Epoch 92/100\n",
      "1152/1152 [==============================] - 1s 594us/step - loss: 0.1445 - accuracy: 0.9583\n",
      "Epoch 93/100\n",
      "1152/1152 [==============================] - 1s 554us/step - loss: 0.1511 - accuracy: 0.9550\n",
      "Epoch 94/100\n",
      "1152/1152 [==============================] - 1s 520us/step - loss: 0.1478 - accuracy: 0.9540\n",
      "Epoch 95/100\n",
      "1152/1152 [==============================] - 1s 617us/step - loss: 0.1387 - accuracy: 0.9573\n",
      "Epoch 96/100\n",
      "1152/1152 [==============================] - 1s 512us/step - loss: 0.1384 - accuracy: 0.9580\n",
      "Epoch 97/100\n",
      "1152/1152 [==============================] - 1s 622us/step - loss: 0.1395 - accuracy: 0.9578\n",
      "Epoch 98/100\n",
      "1152/1152 [==============================] - 1s 602us/step - loss: 0.1383 - accuracy: 0.9585\n",
      "Epoch 99/100\n",
      "1152/1152 [==============================] - 1s 613us/step - loss: 0.1473 - accuracy: 0.9564\n",
      "Epoch 100/100\n",
      "1152/1152 [==============================] - 1s 580us/step - loss: 0.1355 - accuracy: 0.9587\n"
     ]
    },
    {
     "data": {
      "text/plain": [
       "<tensorflow.python.keras.callbacks.History at 0x2b61d1dfd90>"
      ]
     },
     "execution_count": 4,
     "metadata": {},
     "output_type": "execute_result"
    }
   ],
   "source": [
    "model=tf.keras.Sequential([\n",
    "    tf.keras.layers.Flatten(input_shape=(6,)),\n",
    "    tf.keras.layers.Dropout(0.2),\n",
    "    tf.keras.layers.Dense(6, activation=tf.nn.relu),\n",
    "    tf.keras.layers.Dense(1, activation=tf.math.sigmoid)\n",
    "])\n",
    "model.compile(optimizer=tf.keras.optimizers.Adam(learning_rate=0.01),\n",
    "              #optimizer='adam',\n",
    "              loss='BinaryCrossentropy',\n",
    "              metrics='accuracy')\n",
    "model.fit(train_data,train_label,batch_size=5,epochs=100)"
   ]
  },
  {
   "cell_type": "markdown",
   "id": "atmospheric-drunk",
   "metadata": {},
   "source": [
    "#### Training the neural network\n",
    "\n",
    "1. Compile your nn model using model.compile() . Use the appropriate loss function (binary cross-entropy), and use Adam optimizer. Pass on 'accuracy' as a metric, so that you get to see the accuracy on your training set after every iteration of Adam optimization (a form of mini-batch gradient descent).\n",
    "\n",
    "Try to look-up and learn a bit about what stochastic gradient descent and mini-batch gradient descent essentilly are. You'll use mini-batches while training your model.\n",
    "\n",
    "2. Train your model using model.fit() (this will take a while, perhaps a few minutes). Use appropriate number of ephocs and batch size (you have to decide which values work the best). Don't forget that you have to train your model on the training set, and not the test set"
   ]
  },
  {
   "cell_type": "code",
   "execution_count": 5,
   "id": "infrared-hormone",
   "metadata": {},
   "outputs": [
    {
     "name": "stdout",
     "output_type": "stream",
     "text": [
      "Epoch 1/10\n",
      "1152/1152 [==============================] - 1s 650us/step - loss: 0.1441 - accuracy: 0.9557\n",
      "Epoch 2/10\n",
      "1152/1152 [==============================] - 1s 594us/step - loss: 0.1366 - accuracy: 0.9571\n",
      "Epoch 3/10\n",
      "1152/1152 [==============================] - 1s 593us/step - loss: 0.1480 - accuracy: 0.9557\n",
      "Epoch 4/10\n",
      "1152/1152 [==============================] - 1s 518us/step - loss: 0.1422 - accuracy: 0.9571\n",
      "Epoch 5/10\n",
      "1152/1152 [==============================] - 1s 630us/step - loss: 0.1335 - accuracy: 0.9602\n",
      "Epoch 6/10\n",
      "1152/1152 [==============================] - 1s 514us/step - loss: 0.1424 - accuracy: 0.9585\n",
      "Epoch 7/10\n",
      "1152/1152 [==============================] - 1s 566us/step - loss: 0.1371 - accuracy: 0.9559\n",
      "Epoch 8/10\n",
      "1152/1152 [==============================] - 1s 581us/step - loss: 0.1414 - accuracy: 0.9569\n",
      "Epoch 9/10\n",
      "1152/1152 [==============================] - 1s 617us/step - loss: 0.1429 - accuracy: 0.9599\n",
      "Epoch 10/10\n",
      "1152/1152 [==============================] - 1s 562us/step - loss: 0.1466 - accuracy: 0.9559\n"
     ]
    },
    {
     "data": {
      "text/plain": [
       "<tensorflow.python.keras.callbacks.History at 0x2b61e59f6d0>"
      ]
     },
     "execution_count": 5,
     "metadata": {},
     "output_type": "execute_result"
    }
   ],
   "source": [
    "BATCH_SIZE = 5\n",
    "EPOCHS = 10\n",
    "model.fit(train_data,train_label,batch_size=5,epochs=10)"
   ]
  },
  {
   "cell_type": "markdown",
   "id": "imposed-recording",
   "metadata": {},
   "source": [
    "#### Evaluation of the model on the test set\n",
    "\n",
    "Find the accuracy of your trained model on the test set. Don't forget that you had normalized your training set before training the same model."
   ]
  },
  {
   "cell_type": "code",
   "execution_count": 6,
   "id": "stuck-samoa",
   "metadata": {},
   "outputs": [
    {
     "name": "stdout",
     "output_type": "stream",
     "text": [
      "45/45 [==============================] - 0s 932us/step - loss: 0.1067 - accuracy: 0.9569\n",
      "Accuracy= 95.6944465637207%\n"
     ]
    }
   ],
   "source": [
    "test_loss, test_acc = model.evaluate(test_data, test_label) # TODO\n",
    "print(\"Accuracy= {} %\".format(test_acc*100))"
   ]
  },
  {
   "cell_type": "markdown",
   "id": "cardiac-casting",
   "metadata": {},
   "source": [
    "## Trying Different ML algorithms"
   ]
  },
  {
   "cell_type": "code",
   "execution_count": 7,
   "id": "willing-jimmy",
   "metadata": {},
   "outputs": [
    {
     "name": "stdout",
     "output_type": "stream",
     "text": [
      "0.9381944444444444\n"
     ]
    }
   ],
   "source": [
    "model=lr()\n",
    "model.fit(train_data,train_label)\n",
    "y_pred = model.predict(test_data)\n",
    "print(model.score(test_data, test_label))"
   ]
  },
  {
   "cell_type": "code",
   "execution_count": 8,
   "id": "looking-ladder",
   "metadata": {},
   "outputs": [
    {
     "data": {
      "text/plain": [
       "0.9631944444444445"
      ]
     },
     "execution_count": 8,
     "metadata": {},
     "output_type": "execute_result"
    }
   ],
   "source": [
    "model=knc(n_neighbors=3)\n",
    "model.fit(train_data,train_label)\n",
    "y_pred = model.predict(test_data)\n",
    "model.score(test_data, test_label)"
   ]
  },
  {
   "cell_type": "code",
   "execution_count": 9,
   "id": "determined-transcription",
   "metadata": {},
   "outputs": [
    {
     "name": "stdout",
     "output_type": "stream",
     "text": [
      "0.9722222222222222\n"
     ]
    }
   ],
   "source": [
    "a=0\n",
    "while a<0.972:\n",
    "    model=rfc(n_estimators=25) #Random Forest gives better accuracy than Neural Network\n",
    "    model.fit(train_data,train_label)\n",
    "    y_pred = model.predict(test_data)\n",
    "    a=model.score(test_data, test_label)\n",
    "print(a)    "
   ]
  },
  {
   "cell_type": "code",
   "execution_count": 10,
   "id": "frozen-omaha",
   "metadata": {},
   "outputs": [
    {
     "data": {
      "text/plain": [
       "0.9458333333333333"
      ]
     },
     "execution_count": 10,
     "metadata": {},
     "output_type": "execute_result"
    }
   ],
   "source": [
    "model=SVC()\n",
    "model.fit(train_data,train_label)\n",
    "y_pred = model.predict(test_data)\n",
    "model.score(test_data, test_label)"
   ]
  },
  {
   "cell_type": "code",
   "execution_count": 11,
   "id": "mineral-hanging",
   "metadata": {},
   "outputs": [
    {
     "name": "stdout",
     "output_type": "stream",
     "text": [
      "0.9694444444444444\n"
     ]
    }
   ],
   "source": [
    "a=0\n",
    "while a<0.969:\n",
    "    model=dtc(criterion=\"gini\")\n",
    "    model.fit(train_data,train_label)\n",
    "    y_pred = model.predict(test_data)\n",
    "    a=model.score(test_data, test_label)\n",
    "print(a)    "
   ]
  },
  {
   "cell_type": "markdown",
   "id": "smooth-mozambique",
   "metadata": {},
   "source": [
    "Is accuracy really the best metric to evaluate our model on the test set here? What was the proportion of positive samples to negative samples in the dataset? What would have been the accuracy of a model that would have output '0' for any input? By the way, this dataset is for detecting the presence of thyroid in a patient.\n",
    "\n",
    "Now, find out about the metrics - recall, precision and F1-score. Use these metrics to evaluate your model on the test set"
   ]
  },
  {
   "cell_type": "markdown",
   "id": "celtic-chapter",
   "metadata": {},
   "source": [
    "Now, tune the hyperparameters of your model (like number of layers, number of units in different layers, etc.) to try and do better and better on the test set."
   ]
  },
  {
   "cell_type": "markdown",
   "id": "extended-wound",
   "metadata": {},
   "source": [
    "\n",
    "#### Plotting histograms based on prediction values\n",
    "\n",
    "Now, you will plot 2 historgrams of prediction values (0 to 1, or 0% to 100%) on the training data, output by your nn model - one histogram for positive samples and another for negative samples. Plot both the histograms in the same figure. \n",
    "\n",
    "Here's one such plot I made with my nn model:\n",
    "<img src=\"files/index.jpeg\">\n",
    "\n",
    "The blue histogram is for negative samples and the red one is for positive samples (add a legend to the plots, unlike me).\n",
    "\n",
    "Use log-scale on the y-axis (number of occurances in the given predicted value range), like I have done.\n",
    "\n",
    "Now, what can you infer from the histograms you got? How should an ideal pair of histograms look like?"
   ]
  },
  {
   "cell_type": "code",
   "execution_count": null,
   "id": "dated-viewer",
   "metadata": {},
   "outputs": [],
   "source": []
  }
 ],
 "metadata": {
  "kernelspec": {
   "display_name": "Python 3",
   "language": "python",
   "name": "python3"
  },
  "language_info": {
   "codemirror_mode": {
    "name": "ipython",
    "version": 3
   },
   "file_extension": ".py",
   "mimetype": "text/x-python",
   "name": "python",
   "nbconvert_exporter": "python",
   "pygments_lexer": "ipython3",
   "version": "3.9.4"
  }
 },
 "nbformat": 4,
 "nbformat_minor": 5
}
