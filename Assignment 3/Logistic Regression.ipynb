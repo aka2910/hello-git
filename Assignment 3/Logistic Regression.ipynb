{
 "cells": [
  {
   "cell_type": "markdown",
   "metadata": {},
   "source": [
    "# Assignment 3 : Logistic Regression"
   ]
  },
  {
   "cell_type": "markdown",
   "metadata": {},
   "source": [
    "In this assignment you have to use the logistic regression technique you learned in the week 3 of the prescribed course. You have to use numpy to complete the assignment"
   ]
  },
  {
   "cell_type": "markdown",
   "metadata": {},
   "source": [
    "#### Import other the libraries here"
   ]
  },
  {
   "cell_type": "code",
   "execution_count": 1,
   "metadata": {},
   "outputs": [],
   "source": [
    "import numpy as np\n",
    "import pandas as pd\n",
    "import matplotlib.pyplot as plt\n",
    "from sklearn.linear_model import LogisticRegression\n",
    "from sklearn.metrics import confusion_matrix as cm"
   ]
  },
  {
   "cell_type": "markdown",
   "metadata": {},
   "source": [
    "##### Define these functions here:\n",
    "- Sigmoid function: `def sigmoid(x):`"
   ]
  },
  {
   "cell_type": "code",
   "execution_count": 2,
   "metadata": {},
   "outputs": [],
   "source": [
    "def sigmoid(x):\n",
    "    return 1/(1+np.exp(-x))\n",
    "\n",
    "def cost_fn(A,y):\n",
    "    cost=-np.sum(y*np.log(A)+(1-y)*np.log(1-A))/5000\n",
    "    return cost"
   ]
  },
  {
   "cell_type": "markdown",
   "metadata": {},
   "source": [
    "- cost function: `def cost_fn(x,y,theta):` (refer to the course)"
   ]
  },
  {
   "cell_type": "code",
   "execution_count": 3,
   "metadata": {},
   "outputs": [],
   "source": [
    "#I will take theta as column(401X10)(1st row is bias)\n",
    "#X in input is 5000X400 make it 400X5000 || y is 10x5000|| final x is 401x5000\n",
    "#I am avoiding broadcasting currently\n",
    "def gradient_descent(X, y, theta,iters, learning_rate=1):\n",
    "    x=X.T\n",
    "    x=np.vstack((np.ones((1,5000)),x))\n",
    "    for i in range(iters):\n",
    "        z=np.dot(theta.T,x)\n",
    "        A=sigmoid(z)\n",
    "        dz=sigmoid(z)-y #10x5000\n",
    "        theta-=learning_rate*np.dot(x,dz.T)/50000\n",
    "    return theta,cost_fn(A,y)    "
   ]
  },
  {
   "cell_type": "markdown",
   "metadata": {},
   "source": [
    "- Gradient descent: `def gradient_descent(X, y, theta, learning_rate=1, iters):`\n",
    "\n",
    "$\\frac{\\partial J}{\\partial \\theta} = \\frac{1}{m} \\Sigma_{i=1}^m ((h_\\theta(x^{(i)})-y^{(i)})x_j^{(i)})$\n",
    "\n",
    "$\\theta_{j+1}^{(i)} = \\theta_j^{(i)} - \\frac{1}{m} \\Sigma_{i=1}^m ((h_\\theta(x^{(i)})-y^{(i)})x_j^{(i)})$\n",
    "\n",
    "Since these are for each element of your matrix. The final expression will be: (if using matrices)\n",
    "$\\theta_{j+1} = \\theta_j - \\frac{1}{m} \\Sigma_{i=1}^m ((h_\\theta(x)-y)x_j)$\n",
    "\n",
    "You have to initialise $\\theta$ and update it at each iteration according to this gradient descent equation"
   ]
  },
  {
   "cell_type": "code",
   "execution_count": 4,
   "metadata": {},
   "outputs": [
    {
     "name": "stdout",
     "output_type": "stream",
     "text": [
      "(5000, 400) (1, 5000) (401, 10) (10, 5000)\n"
     ]
    },
    {
     "data": {
      "image/png": "[encoded data removed]",
      "text/plain": [
       "<Figure size 432x288 with 1 Axes>"
      ]
     },
     "metadata": {
      "needs_background": "light"
     },
     "output_type": "display_data"
    },
    {
     "name": "stdout",
     "output_type": "stream",
     "text": [
      "Value of Cost Function at end- 0.366503630865254\n"
     ]
    }
   ],
   "source": [
    "X=np.array(pd.read_csv(\"X.csv\",header=None))\n",
    "y=np.array(pd.read_csv(\"y.csv\",header=None))\n",
    "y=y.reshape(1,5000)\n",
    "theta=np.zeros((401,10))\n",
    "y_hot=np.zeros((10,5000))\n",
    "for i in range(5000):\n",
    "    y_hot[y[0][i]][i]=1\n",
    "print(X.shape,y.shape,theta.shape,y_hot.shape)\n",
    "costplt=[]\n",
    "rateplt=[]\n",
    "\n",
    "for i in range(170):\n",
    "    theta_temp,cost=gradient_descent(X,y_hot,np.zeros((401,10)),100,i/2)\n",
    "    costplt.append(cost)\n",
    "    rateplt.append(i/2)\n",
    "plt.plot(rateplt,costplt)\n",
    "plt.xlabel(\"learning rate\")\n",
    "plt.ylabel(\"Cost for 100 iters\")\n",
    "plt.show()\n",
    "\n",
    "#optimal learning rate is at roughly about 26 for 100 itearations\n",
    "theta_final,cost_final=gradient_descent(X,y_hot,theta,10000,26)\n",
    "print(\"Value of Cost Function at end-\",cost_final)"
   ]
  },
  {
   "cell_type": "markdown",
   "metadata": {},
   "source": [
    "- Predict: `def predict(X, y, theta, learning_rate=1, iters)`:"
   ]
  },
  {
   "cell_type": "code",
   "execution_count": 5,
   "metadata": {},
   "outputs": [
    {
     "name": "stdout",
     "output_type": "stream",
     "text": [
      "4816\n",
      "Accuracy= 96.32% (1, 5000) (1, 5000)\n"
     ]
    }
   ],
   "source": [
    "def predict(X, theta):\n",
    "    x=X.T\n",
    "    x=np.vstack((np.ones((1,5000)),x))\n",
    "    z=np.dot(theta.T,x)\n",
    "    A=sigmoid(z)\n",
    "#A is 10x5000. we need row inder of max element in each column\n",
    "    row_index = A.argmax(axis=0)\n",
    "    return row_index\n",
    "\n",
    "y_pred=predict(X,theta_final).reshape(1,5000)\n",
    "check=np.where(y_pred==y,1,0)\n",
    "print(np.sum(check))\n",
    "print(\"Accuracy= {}%\".format(np.sum(check)/50),y_pred.shape,y.shape)"
   ]
  },
  {
   "cell_type": "markdown",
   "metadata": {},
   "source": [
    "### Load MNSIT data here\n",
    "\n",
    "There are two file, X.csv and y.csv.\n",
    "You have to load these csv files (read about csv in python) and store them in python variables. \n",
    "There are 5000 images, each line in X.csv is an image (pixels of image of size 20x20 are concatenated to size 400x1) and each line is y.csv is the label of that image (label in n-th line in y.csv corresponds to image in n-th line in X.csv)"
   ]
  },
  {
   "cell_type": "code",
   "execution_count": 6,
   "metadata": {},
   "outputs": [
    {
     "name": "stdout",
     "output_type": "stream",
     "text": [
      "label prediction\n",
      "5     5\n",
      "3     3\n",
      "7     7\n",
      "2     2\n",
      "1     1\n",
      "2     2\n"
     ]
    },
    {
     "data": {
      "image/png": "[encoded data removed]",
      "text/plain": [
       "<Figure size 432x288 with 6 Axes>"
      ]
     },
     "metadata": {
      "needs_background": "light"
     },
     "output_type": "display_data"
    }
   ],
   "source": [
    "print(\"label\",\"prediction\")\n",
    "for i in range (6):\n",
    "    k=np.random.randint(0,5001)\n",
    "    print(y[0][k],\"   \", y_pred[0][k])\n",
    "    digit=X[k]\n",
    "    digit=digit.reshape(20,20)\n",
    "    plt.subplot(3,2,i+1)\n",
    "    plt.imshow(digit.T,cmap=\"gray\") #image was laterally inverted so took T\n",
    "plt.show()    "
   ]
  },
  {
   "cell_type": "markdown",
   "metadata": {},
   "source": [
    "Now your task is to:\n",
    "1. Reshape these to 20x20 and show any 5 of them (random) here. \n",
    "2. For regression, you have to use the 400x1 data only. (X will be a 5000x400 matrix and y will be a 1x5000 matrix)\n",
    "3. Get you prediction and compare it with the labels in y\n",
    "4. Calculate the error %"
   ]
  },
  {
   "cell_type": "markdown",
   "metadata": {},
   "source": [
    "Generate the [confusion matrix](https://en.wikipedia.org/wiki/Confusion_matrix) here and show it here: \n"
   ]
  },
  {
   "cell_type": "code",
   "execution_count": 7,
   "metadata": {},
   "outputs": [
    {
     "name": "stdout",
     "output_type": "stream",
     "text": [
      "[[499   0   0   0   0   0   0   0   1   0]\n",
      " [  0 497   1   0   0   1   0   0   1   0]\n",
      " [  1   2 476   1   4   1   1   2   9   3]\n",
      " [  0   2   7 467   1   9   0   5   4   5]\n",
      " [  0   1   1   0 487   0   1   0   3   7]\n",
      " [  0   0   2   7   3 474   3   1   6   4]\n",
      " [  1   0   0   0   1   2 495   0   1   0]\n",
      " [  0   0   2   0   2   0   0 485   2   9]\n",
      " [  0   4   3   6   6   4   2   2 467   6]\n",
      " [  1   1   2   5   6   3   1  11   1 469]]\n"
     ]
    }
   ],
   "source": [
    "conf_mat=cm(y[0],y_pred[0])\n",
    "print(conf_mat)\n",
    "#sum across all row is 100(so true value horizontal ans predicted vertical)"
   ]
  },
  {
   "cell_type": "markdown",
   "metadata": {},
   "source": [
    "#### Bonus task: \n",
    "Use [scikit-learn](https://scikit-learn.org/stable/modules/generated/sklearn.linear_model.LogisticRegression.html) to perform logistic regression (just a single function which will handle all your task :P)"
   ]
  },
  {
   "cell_type": "code",
   "execution_count": 8,
   "metadata": {},
   "outputs": [
    {
     "name": "stdout",
     "output_type": "stream",
     "text": [
      "(5000,) (5000,) [0 0 0 ... 9 9 7] [[0 0 0 ... 9 9 9]]\n",
      "4719\n",
      "Accuracy= 94.38%\n",
      "(10,) (10, 400) 4719\n"
     ]
    },
    {
     "data": {
      "image/png": "[encoded data removed]",
      "text/plain": [
       "<Figure size 432x288 with 1 Axes>"
      ]
     },
     "metadata": {
      "needs_background": "light"
     },
     "output_type": "display_data"
    }
   ],
   "source": [
    "model = LogisticRegression(solver='liblinear').fit(X, y[0])\n",
    "xx=np.arange(5000)\n",
    "y_pred1 = model.predict(X)\n",
    "print(y[0].shape,y_pred1.shape,y_pred1,y)\n",
    "arr=np.where(y_pred1==y,1,0)\n",
    "print(np.sum(arr))\n",
    "print(\"Accuracy= {}%\".format(np.sum(arr)/50))\n",
    "print(model.intercept_.shape,model.coef_.shape,np.sum(arr))\n",
    "plt.scatter(xx,y)\n",
    "plt.scatter(xx,y_pred1)\n",
    "plt.show()"
   ]
  },
  {
   "cell_type": "code",
   "execution_count": null,
   "metadata": {},
   "outputs": [],
   "source": []
  }
 ],
 "metadata": {
  "kernelspec": {
   "display_name": "Python 3",
   "language": "python",
   "name": "python3"
  },
  "language_info": {
   "codemirror_mode": {
    "name": "ipython",
    "version": 3
   },
   "file_extension": ".py",
   "mimetype": "text/x-python",
   "name": "python",
   "nbconvert_exporter": "python",
   "pygments_lexer": "ipython3",
   "version": "3.9.4"
  }
 },
 "nbformat": 4,
 "nbformat_minor": 4
}
